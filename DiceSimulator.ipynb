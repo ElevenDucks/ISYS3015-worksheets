{
 "cells": [
  {
   "cell_type": "markdown",
   "id": "396bac60-9dda-4502-ac82-c2142f37338b",
   "metadata": {},
   "source": [
    "# Dice Statistics\n",
    "\n",
    "Using the dice class, write a simple program that prompts the user for the die type and the number of rolls. Your program then rolls the die the required number of times. The program should display each die roll, the average die roll and the sum of all the rolls.\n"
   ]
  },
  {
   "cell_type": "code",
   "execution_count": null,
   "id": "b5ed080b-3b9a-4cf9-ac0e-ea97e66346f6",
   "metadata": {},
   "outputs": [],
   "source": [
    "class Dice:\n",
    "    '''Abstract class.  All die can role() and represented as a string'''\n",
    "\n",
    "    def roll(self):\n",
    "        raise NotImplementedError\n",
    "\n",
    "    def __str__(self):\n",
    "        raise NotImplementedError\n",
    "\n",
    "\n",
    "class D6(Dice):\n",
    "    '''Standard six sided dice'''\n",
    "\n",
    "    def roll(self):\n",
    "        return random.randint(1, 6)\n",
    "\n",
    "    def __str__(self):\n",
    "        return 'D6'\n",
    "\n",
    "\n",
    "class RussianRoulette(Dice):\n",
    "    '''Standard 6-sided die but with a 1/1000 chance of rolling -1000'''\n",
    "\n",
    "    def roll(self):\n",
    "        if random.random() <= (1 / 1000):\n",
    "            return -1000\n",
    "        else:\n",
    "            return random.randint(1, 6)\n",
    "\n",
    "    def __str__(self):\n",
    "        return 'RussianRoulette'\n",
    "\n",
    "\n",
    "class Rigged(Dice):\n",
    "    '''Standard 6-sided die, but every eighth roll is lucky (three or greater)'''\n",
    "\n",
    "    def __init__(self):\n",
    "        self.roll_num = 0\n",
    "\n",
    "    def roll(self):\n",
    "        self.roll_num += 1\n",
    "        if (self.roll_num % 8):\n",
    "            return random.randint(3, 6)\n",
    "        return random.randint(1, 6)\n",
    "\n",
    "    def __str__(self):\n",
    "        return 'Rigged'\n",
    "\n",
    "\n",
    "class D20(Dice):\n",
    "    '''Standard 20-sided die.'''\n",
    "\n",
    "    def roll(self):\n",
    "        return random.randint(1, 20)\n",
    "\n",
    "    def __str__(self):\n",
    "        return 'D20'"
   ]
  },
  {
   "cell_type": "markdown",
   "id": "cb84e361-b418-46d3-bc54-d0924fc7745b",
   "metadata": {},
   "source": [
    "# Dice Statistics\n",
    "\n",
    "Write you program using the dice class here!"
   ]
  },
  {
   "cell_type": "code",
   "execution_count": null,
   "id": "bfcc3072-dd91-45d5-a698-f68bfdbdff8c",
   "metadata": {},
   "outputs": [],
   "source": [
    "# 1. Prompt user for type of die\n",
    "\n",
    "# 2. Prompt use for number of roles\n",
    "\n",
    "# 3. Role the die the required number of times outputting each roll\n",
    "\n",
    "# 4. Output the average die roll and the sum of all the rolls.\n"
   ]
  },
  {
   "cell_type": "markdown",
   "id": "1dacdc26-e077-4d7a-b70c-631c994892b4",
   "metadata": {},
   "source": [
    "Does each dice perform as expected?  We will discuss testing later in the semester, but for now, think about how you could validate that each dice class is statistically correct."
   ]
  }
 ],
 "metadata": {
  "kernelspec": {
   "display_name": "Python 3 (ipykernel)",
   "language": "python",
   "name": "python3"
  },
  "language_info": {
   "codemirror_mode": {
    "name": "ipython",
    "version": 3
   },
   "file_extension": ".py",
   "mimetype": "text/x-python",
   "name": "python",
   "nbconvert_exporter": "python",
   "pygments_lexer": "ipython3",
   "version": "3.9.13"
  }
 },
 "nbformat": 4,
 "nbformat_minor": 5
}
