{
 "cells": [
  {
   "cell_type": "markdown",
   "id": "a01cc3be-6188-4711-9eba-4a28936c2109",
   "metadata": {},
   "source": [
    "# The Game (Imperative Version)\n",
    "\n",
    "* Simulate simple board game\n",
    "* There are two players\n",
    "* Each player take turns rolling a die and moving that number of spaces\n",
    "* The first person to space 100 wins\n",
    "\n",
    "Simple *Imperative* Version"
   ]
  },
  {
   "cell_type": "code",
   "execution_count": null,
   "id": "54120d8a-0170-4f00-b949-028408b65272",
   "metadata": {},
   "outputs": [],
   "source": [
    "import random\n",
    "player_1_score = 0\n",
    "player_2_score = 0\n",
    "\n",
    "while True:\n",
    "    player_1_roll = random.randint(1, 6)\n",
    "    player_1_score += player_1_roll\n",
    "    print(f\"Player 1 score: {player_1_score} (rolled a {player_1_roll})\")\n",
    "    if player_1_score >= 100:\n",
    "        print(\"Player 1 wins!\")\n",
    "        break\n",
    "\n",
    "    player_2_roll = random.randint(1, 6)\n",
    "    player_2_score += player_2_roll\n",
    "    print(f\"Player 2 score: {player_2_score} (rolled a {player_2_roll})\")\n",
    "    if player_2_score >= 100:\n",
    "        print(\"Player 2 wins!\")\n",
    "        break"
   ]
  }
 ],
 "metadata": {
  "kernelspec": {
   "display_name": "Python 3 (ipykernel)",
   "language": "python",
   "name": "python3"
  },
  "language_info": {
   "codemirror_mode": {
    "name": "ipython",
    "version": 3
   },
   "file_extension": ".py",
   "mimetype": "text/x-python",
   "name": "python",
   "nbconvert_exporter": "python",
   "pygments_lexer": "ipython3",
   "version": "3.9.7"
  }
 },
 "nbformat": 4,
 "nbformat_minor": 5
}
