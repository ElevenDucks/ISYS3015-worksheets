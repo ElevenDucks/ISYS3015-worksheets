{
 "cells": [
  {
   "cell_type": "code",
   "execution_count": null,
   "id": "45f816ca-f670-46dc-87b2-2d173dfab148",
   "metadata": {},
   "outputs": [],
   "source": [
    "class EvenOnly(list):\n",
    "    def append(self, integer):\n",
    "        if not isinstance(integer, int):\n",
    "            raise TypeError('Only integers can be added')\n",
    "        if integer % 2:\n",
    "            raise ValueError('Only even numbers can be added')\n",
    "\n",
    "        super().append(integer)"
   ]
  },
  {
   "cell_type": "code",
   "execution_count": null,
   "id": "1e7228e1-2ff7-4913-bd14-9ada9c57babd",
   "metadata": {},
   "outputs": [],
   "source": [
    "e = EvenOnly()\n",
    "e.append(2.0)"
   ]
  },
  {
   "cell_type": "code",
   "execution_count": null,
   "id": "2aeb263f-9fa0-479d-8869-70c790074123",
   "metadata": {},
   "outputs": [],
   "source": [
    "e = EvenOnly()\n",
    "\n",
    "try:\n",
    "    e.append(2.0)\n",
    "except (TypeError, ValueError):\n",
    "    print('Can only add even numbers')"
   ]
  }
 ],
 "metadata": {
  "kernelspec": {
   "display_name": "Python 3 (ipykernel)",
   "language": "python",
   "name": "python3"
  },
  "language_info": {
   "codemirror_mode": {
    "name": "ipython",
    "version": 3
   },
   "file_extension": ".py",
   "mimetype": "text/x-python",
   "name": "python",
   "nbconvert_exporter": "python",
   "pygments_lexer": "ipython3",
   "version": "3.9.13"
  }
 },
 "nbformat": 4,
 "nbformat_minor": 5
}
