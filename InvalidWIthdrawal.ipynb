{
 "cells": [
  {
   "cell_type": "code",
   "execution_count": 1,
   "id": "2470faa8-2a73-46c2-9e94-eb2e625e365f",
   "metadata": {},
   "outputs": [],
   "source": [
    "class InvalidWithdrawal(Exception):\n",
    "    def __init__(self, balance, amount):\n",
    "        super().__init__(\"account doesn't have ${}\".format(amount))\n",
    "        self.amount = amount\n",
    "        self.balance = balance\n",
    "\n",
    "    def overage(self):\n",
    "        return self.amount - self.balance"
   ]
  },
  {
   "cell_type": "code",
   "execution_count": null,
   "id": "26bfc24d-41f1-462f-9445-24b90a42fb1c",
   "metadata": {},
   "outputs": [],
   "source": [
    "raise InvalidWithdrawal(25, 50)"
   ]
  },
  {
   "cell_type": "code",
   "execution_count": 2,
   "id": "06bf2bba-3ac9-4833-875d-23726108ec73",
   "metadata": {},
   "outputs": [
    {
     "name": "stdout",
     "output_type": "stream",
     "text": [
      "Your withdrawal is 25 greater that you balance\n"
     ]
    }
   ],
   "source": [
    "try:\n",
    "    raise InvalidWithdrawal(25, 50)\n",
    "except InvalidWithdrawal as e:\n",
    "    print(f\"Your withdrawal is {e.overage()} greater that you balance\")"
   ]
  },
  {
   "cell_type": "code",
   "execution_count": null,
   "id": "6600d3b5-b001-4f88-b3dc-c87c155b8e93",
   "metadata": {},
   "outputs": [],
   "source": []
  }
 ],
 "metadata": {
  "kernelspec": {
   "display_name": "Python 3 (ipykernel)",
   "language": "python",
   "name": "python3"
  },
  "language_info": {
   "codemirror_mode": {
    "name": "ipython",
    "version": 3
   },
   "file_extension": ".py",
   "mimetype": "text/x-python",
   "name": "python",
   "nbconvert_exporter": "python",
   "pygments_lexer": "ipython3",
   "version": "3.9.13"
  }
 },
 "nbformat": 4,
 "nbformat_minor": 5
}
