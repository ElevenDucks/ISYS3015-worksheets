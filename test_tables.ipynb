{
 "cells": [
  {
   "cell_type": "markdown",
   "id": "f5d626fb-79af-4e4c-8068-ed2a5a4f8de6",
   "metadata": {},
   "source": [
    "# Test Tables\n",
    "\n",
    "Test tables are used to provide a structure to testing. Programmers will often create a table with a selection of normal, extreme and exceptional data that they intend to use during testing. The table will include: a column for the expected result. a column for what actually happens when the program runs.\n",
    "\n",
    "| Test # | Type | Data | Expected | Actual | Pass/Fail |\n",
    "|--------|------|------|----------|--------|-----------|\n",
    "|        |      |      |          |        |           |\n",
    "\n",
    "\n",
    "We would generte a table for each fuction we are testing.  The set of tables would test the module.  \n",
    "\n",
    "# Consider the function add()\n",
    "\n",
    "| Test # | Type    | Data     | Expected | Actual | Pass/Fail |\n",
    "|--------|---------|----------|----------|--------|-----------|\n",
    "|  1     | Valid   |0,0       | 0        |        |           |\n",
    "|  2     | Valid   |1,1       | 2        |        |           |\n",
    "|  3     | Valid   |-1,-1     | -2       |        |           |\n",
    "|  4    | Valid   |1.1,1.1   | 2.2      |        |           |\n",
    "|  5    | Valid   |-1.1,-1.1 | 2.2      |        |           |\n",
    "|  6    | Invalid |'0',0     | 'Not a number'|   |           |\n",
    "|  7    | Invalid |'One','0' | 'Not a number'|   |           |\n",
    "\n",
    "Are all of the above needed?  Do we need more? How many test do you need? Where do you stop adding tests?  Because we are reimplementing the Python ```+``` operator we probably only testing for integers,floats is sufficient.  The above are the 'obvious' addition of numbers.  But is it valid to  add lists, or dictionaries, or tuples, or strings?  What about special number like infinity?  These questions will be answered with various discussion  with the client. \n",
    "\n",
    "| Test # | Type      | Data    | Expected | Actual | Pass/Fail |\n",
    "|--------|-----------|---------|----------|--------|-----------|\n",
    "|  8    | Invalid   |[1],[1]  | 'Not a number' |  |           |\n",
    "|  9    | Invalid   |[1],[1]  | 'Not a number' |  |           |\n",
    "\n",
    "Considering the above this gives us a final test table:\n",
    "\n",
    "\n",
    "| Test # | Type    | Data     | Expected | Actual | Pass/Fail |\n",
    "|--------|---------|----------|----------|--------|-----------|\n",
    "|  1     | Valid   |0,0       | 0        |        |           |\n",
    "|  2     | Valid   |1,1       | 2        |        |           |\n",
    "|  3     | Valid   |-1,-1     | -2       |        |           |\n",
    "|  4     | Valid   |1.1,1.1   | 2.2      |        |           |\n",
    "|  5     | Valid   |-1.1,-1.1 | 2.2      |        |           |\n",
    "|  6     | Invalid |'0',0     | 'Not a number'|   |           |\n",
    "|  7     | Invalid |'One','0' | 'Not a number'|   |           |\n",
    "|  8     | Invalid |[1],[1]   | 'Not a number'|   |           |\n",
    "|  9     | Invalid |{1},{1}   | 'Not a number'|   |           |"
   ]
  },
  {
   "cell_type": "code",
   "execution_count": null,
   "id": "b1fcca3e-861d-4b11-b3a7-7b811ca46aa0",
   "metadata": {},
   "outputs": [],
   "source": []
  }
 ],
 "metadata": {
  "kernelspec": {
   "display_name": "Python 3 (ipykernel)",
   "language": "python",
   "name": "python3"
  },
  "language_info": {
   "codemirror_mode": {
    "name": "ipython",
    "version": 3
   },
   "file_extension": ".py",
   "mimetype": "text/x-python",
   "name": "python",
   "nbconvert_exporter": "python",
   "pygments_lexer": "ipython3",
   "version": "3.9.13"
  }
 },
 "nbformat": 4,
 "nbformat_minor": 5
}
