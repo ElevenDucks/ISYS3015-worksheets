{
 "cells": [
  {
   "cell_type": "code",
   "execution_count": 1,
   "id": "2001286e-7459-4e73-9384-19ebbf5134b2",
   "metadata": {},
   "outputs": [
    {
     "ename": "AttributeError",
     "evalue": "'object' object has no attribute 'x'",
     "output_type": "error",
     "traceback": [
      "\u001b[0;31m---------------------------------------------------------------------------\u001b[0m",
      "\u001b[0;31mAttributeError\u001b[0m                            Traceback (most recent call last)",
      "Input \u001b[0;32mIn [1]\u001b[0m, in \u001b[0;36m<cell line: 2>\u001b[0;34m()\u001b[0m\n\u001b[1;32m      1\u001b[0m o \u001b[38;5;241m=\u001b[39m \u001b[38;5;28mobject\u001b[39m()\n\u001b[0;32m----> 2\u001b[0m \u001b[43mo\u001b[49m\u001b[38;5;241;43m.\u001b[39;49m\u001b[43mx\u001b[49m \u001b[38;5;241m=\u001b[39m \u001b[38;5;241m5\u001b[39m\n",
      "\u001b[0;31mAttributeError\u001b[0m: 'object' object has no attribute 'x'"
     ]
    }
   ],
   "source": [
    "o = object()\n",
    "o.x = 5"
   ]
  },
  {
   "cell_type": "code",
   "execution_count": 2,
   "id": "05842f9a-633c-4e84-9c10-d6fa6e204c47",
   "metadata": {},
   "outputs": [
    {
     "data": {
      "text/plain": [
       "'hello'"
      ]
     },
     "execution_count": 2,
     "metadata": {},
     "output_type": "execute_result"
    }
   ],
   "source": [
    "class MyObject:\n",
    "    pass\n",
    "\n",
    "m = MyObject()\n",
    "m.x = \"hello\"\n",
    "m.x"
   ]
  },
  {
   "cell_type": "code",
   "execution_count": 4,
   "id": "62a859a0-7ac1-41f3-b9ff-d82502758919",
   "metadata": {},
   "outputs": [
    {
     "name": "stdout",
     "output_type": "stream",
     "text": [
      "The type of [] is: <class 'list'>\n",
      "The type of [1, 2.4, 'abc', (1, 2), [6, 78, 9]] is: <class 'list'>\n"
     ]
    }
   ],
   "source": [
    "list1 = []  # creating an empty list\n",
    "list2 = [1, 2.4, 'abc', (1, 2), [6, 78, 9]]  # creating a list of different values\n",
    "\n",
    "print(\"The type of\", list1, \"is:\", type(list1))\n",
    "\n",
    "print(\"The type of\", list2, \"is:\", type(list2))"
   ]
  },
  {
   "cell_type": "code",
   "execution_count": 5,
   "id": "b1df0b96-6b3b-46ff-8598-786ca6ee2dc4",
   "metadata": {},
   "outputs": [
    {
     "name": "stdout",
     "output_type": "stream",
     "text": [
      "list_1[2:5] = [5.6, 'a', 'Hello World']\n",
      "list_1[-5:-2] = [3, 5.6, 'a']\n",
      "list_1[3:] = ['a', 'Hello World', 0.4]\n",
      "list_1[:2] = [1, 3]\n",
      "list_1[:-2] = [1, 3, 5.6, 'a']\n"
     ]
    }
   ],
   "source": [
    "list_1 = [1, 3, 5.6, 'a', \"Hello World\", 0.4]\n",
    "\n",
    "print(\"list_1[2:5] =\", list_1[2:5])  # slicing 3rd to 5th element\n",
    "\n",
    "print(\"list_1[-5:-2] =\", list_1[-5:-2])  # slicing last 5th to 3rd element\n",
    "\n",
    "print(\"list_1[3:] =\", list_1[3:])  # slicing all elements after 3rd one\n",
    "\n",
    "print(\"list_1[:2] =\", list_1[:2])  # slicing all elements till 2nd one\n",
    "\n",
    "print(\"list_1[:-2] =\", list_1[:-2])  # slicing all elements till last 2nd one"
   ]
  },
  {
   "cell_type": "code",
   "execution_count": 6,
   "id": "3c00ebc8-8d7f-48bf-ae2f-cf4e00ce779f",
   "metadata": {},
   "outputs": [
    {
     "name": "stdout",
     "output_type": "stream",
     "text": [
      "91\n"
     ]
    },
    {
     "ename": "TypeError",
     "evalue": "'tuple' object does not support item assignment",
     "output_type": "error",
     "traceback": [
      "\u001b[0;31m---------------------------------------------------------------------------\u001b[0m",
      "\u001b[0;31mTypeError\u001b[0m                                 Traceback (most recent call last)",
      "Input \u001b[0;32mIn [6]\u001b[0m, in \u001b[0;36m<cell line: 5>\u001b[0;34m()\u001b[0m\n\u001b[1;32m      1\u001b[0m my_tuple \u001b[38;5;241m=\u001b[39m (\u001b[38;5;241m91\u001b[39m, \u001b[38;5;241m3.4\u001b[39m, \u001b[38;5;124m\"\u001b[39m\u001b[38;5;124mhello\u001b[39m\u001b[38;5;124m\"\u001b[39m)\n\u001b[1;32m      3\u001b[0m \u001b[38;5;28mprint\u001b[39m(my_tuple[\u001b[38;5;241m0\u001b[39m])\n\u001b[0;32m----> 5\u001b[0m \u001b[43mmy_tuple\u001b[49m\u001b[43m[\u001b[49m\u001b[38;5;241;43m0\u001b[39;49m\u001b[43m]\u001b[49m \u001b[38;5;241m=\u001b[39m \u001b[38;5;241m12\u001b[39m\n",
      "\u001b[0;31mTypeError\u001b[0m: 'tuple' object does not support item assignment"
     ]
    }
   ],
   "source": [
    "my_tuple = (91, 3.4, \"hello\")\n",
    "\n",
    "print(my_tuple[0])\n",
    "\n",
    "my_tuple[0] = 12"
   ]
  },
  {
   "cell_type": "code",
   "execution_count": 7,
   "id": "d1ebffb0-c912-4a76-b3a1-b282b59db6cf",
   "metadata": {},
   "outputs": [
    {
     "name": "stdout",
     "output_type": "stream",
     "text": [
      "The type of  (1, 2, 3) is:  <class 'tuple'>\n",
      "1\n",
      "2\n",
      "3\n"
     ]
    }
   ],
   "source": [
    "tup = 1, 2, 3  # packing, parethenisis optional\n",
    "\n",
    "print(\"The type of \", tup, \"is: \", type(tup))\n",
    "\n",
    "a, b, c = tup  #unpacking\n",
    "\n",
    "print(a)\n",
    "print(b)\n",
    "print(c)"
   ]
  },
  {
   "cell_type": "code",
   "execution_count": 9,
   "id": "bace4e9e-5275-4b4d-b72f-6e54f397c28c",
   "metadata": {},
   "outputs": [
    {
     "data": {
      "text/plain": [
       "75.03"
      ]
     },
     "execution_count": 9,
     "metadata": {},
     "output_type": "execute_result"
    }
   ],
   "source": [
    "from collections import namedtuple\n",
    "Stock = namedtuple(\"Stock\", \"symbol current high low\")\n",
    "stock = Stock(\"FB\", 75.00, high=75.03, low=74.90)\n",
    "stock.high"
   ]
  },
  {
   "cell_type": "code",
   "execution_count": 11,
   "id": "5054cbca-15ba-4df1-8421-7500190ac80e",
   "metadata": {},
   "outputs": [
    {
     "name": "stdout",
     "output_type": "stream",
     "text": [
      "{1, 2, 5, 7.5, 't', 'a'}\n",
      "6\n",
      "{'g', 'u', 5.6}\n",
      "{1, 2, 5, 7.5, 't'}\n",
      "{2, 5, 7.5, 't'}\n",
      "{2, 7.5, 't'}\n",
      "0\n"
     ]
    }
   ],
   "source": [
    "set1 = {1, 2, 'a', 't', 7.5}\n",
    "set2 = {'g', 2, 'u', 5.6}\n",
    "\n",
    "set1.add(5)\n",
    "print(set1)\n",
    "print(len(set1))\n",
    "\n",
    "set2.pop()\n",
    "print(set2)\n",
    "\n",
    "set1.remove('a')\n",
    "print(set1)\n",
    "set1.discard(1)\n",
    "print(set1)\n",
    "\n",
    "set2.remove(5.6)\n",
    "\n",
    "set1.discard(5)\n",
    "print(set1)\n",
    "\n",
    "set2.clear()\n",
    "print(len(set2))"
   ]
  },
  {
   "cell_type": "code",
   "execution_count": 12,
   "id": "fdbe6f22-e779-4e7b-82c6-1f80e1e5c731",
   "metadata": {},
   "outputs": [
    {
     "name": "stdout",
     "output_type": "stream",
     "text": [
      "3719\n"
     ]
    },
    {
     "data": {
      "text/plain": [
       "{0: 0, 1: 1, 2: 4, 3: 9, 4: 16, 5: 25}"
      ]
     },
     "execution_count": 12,
     "metadata": {},
     "output_type": "execute_result"
    }
   ],
   "source": [
    "phonebook = {\n",
    "    \"bob\": 7387,\n",
    "    \"alice\": 3719,\n",
    "    \"jack\": 7052,\n",
    "}\n",
    "\n",
    "squares = {x: x * x for x in range(6)}\n",
    "\n",
    "print(phonebook[\"alice\"])\n",
    "\n",
    "squares"
   ]
  },
  {
   "cell_type": "code",
   "execution_count": null,
   "id": "f409c8c1-da42-49b2-9f47-c66fea134bf2",
   "metadata": {},
   "outputs": [],
   "source": []
  }
 ],
 "metadata": {
  "kernelspec": {
   "display_name": "Python 3 (ipykernel)",
   "language": "python",
   "name": "python3"
  },
  "language_info": {
   "codemirror_mode": {
    "name": "ipython",
    "version": 3
   },
   "file_extension": ".py",
   "mimetype": "text/x-python",
   "name": "python",
   "nbconvert_exporter": "python",
   "pygments_lexer": "ipython3",
   "version": "3.9.13"
  }
 },
 "nbformat": 4,
 "nbformat_minor": 5
}
