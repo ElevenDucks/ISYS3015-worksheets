{
 "cells": [
  {
   "cell_type": "code",
   "execution_count": 6,
   "id": "1d134c92-30f7-4f63-bdc2-897c825186ef",
   "metadata": {},
   "outputs": [],
   "source": [
    "class House:\n",
    "    def __init__(self, price):\n",
    "        self.price = price\n"
   ]
  },
  {
   "cell_type": "code",
   "execution_count": 7,
   "id": "514979e8-8f04-473f-8131-df8a5325a1d5",
   "metadata": {},
   "outputs": [
    {
     "name": "stdout",
     "output_type": "stream",
     "text": [
      "2000\n",
      "40000\n"
     ]
    }
   ],
   "source": [
    "# Create Object\n",
    "obj = House(2000)\n",
    "\n",
    "# Access value\n",
    "the_price = obj.price\n",
    "print(the_price)\n",
    "\n",
    "# Modify value\n",
    "obj.price = 40000\n",
    "\n",
    "print(obj.price)"
   ]
  },
  {
   "cell_type": "code",
   "execution_count": 8,
   "id": "fcf4291a-aaac-4aa4-96d4-ba069a6e08af",
   "metadata": {},
   "outputs": [],
   "source": [
    "# 'Bad' traditional way\n",
    "class House:\n",
    "\n",
    "    def __init__(self, price):\n",
    "        self._price = price\n",
    "\n",
    "    def get_price(self):\n",
    "        return self._price\n",
    "\n",
    "    def set_price(self, new_price):\n",
    "        if new_price > 0 and isinstance(new_price, float):\n",
    "            self._price = new_price\n",
    "        else:\n",
    "            print(\"Please enter a valid price\")"
   ]
  },
  {
   "cell_type": "code",
   "execution_count": 9,
   "id": "ef19c4f2-2df9-49f2-99b9-7257b623cbd5",
   "metadata": {},
   "outputs": [
    {
     "name": "stdout",
     "output_type": "stream",
     "text": [
      "2000\n"
     ]
    }
   ],
   "source": [
    "# Create Object\n",
    "obj = House(2000)\n",
    "\n",
    "# Access value\n",
    "the_price = obj.get_price()\n",
    "print(the_price)"
   ]
  },
  {
   "cell_type": "code",
   "execution_count": 10,
   "id": "cb8d2640-0f17-4e0a-92c4-05974192054e",
   "metadata": {},
   "outputs": [],
   "source": [
    "class House:\n",
    "\n",
    "    def __init__(self, price):\n",
    "        self._price = price\n",
    "\n",
    "    @property\n",
    "    def price(self):\n",
    "        return self._price\n",
    "\n",
    "    @price.setter\n",
    "    def price(self, new_price):\n",
    "        if new_price > 0 and isinstance(new_price, float):\n",
    "            self._price = new_price\n",
    "        else:\n",
    "            print(\"Please enter a valid price\")"
   ]
  },
  {
   "cell_type": "code",
   "execution_count": 11,
   "id": "7669f3a6-9801-4733-873b-ee7db2c6d375",
   "metadata": {},
   "outputs": [
    {
     "name": "stdout",
     "output_type": "stream",
     "text": [
      "2000\n",
      "Please enter a valid price\n",
      "2000\n"
     ]
    }
   ],
   "source": [
    "# Create Object\n",
    "obj = House(2000)\n",
    "\n",
    "# Access value\n",
    "the_price = obj.price\n",
    "print(the_price)\n",
    "\n",
    "# Modify value\n",
    "obj.price = 40000\n",
    "\n",
    "print(obj.price)"
   ]
  },
  {
   "cell_type": "code",
   "execution_count": null,
   "id": "22e46295-b1d8-49c8-a8b1-ffff2508cd1f",
   "metadata": {},
   "outputs": [],
   "source": []
  }
 ],
 "metadata": {
  "kernelspec": {
   "display_name": "Python 3 (ipykernel)",
   "language": "python",
   "name": "python3"
  },
  "language_info": {
   "codemirror_mode": {
    "name": "ipython",
    "version": 3
   },
   "file_extension": ".py",
   "mimetype": "text/x-python",
   "name": "python",
   "nbconvert_exporter": "python",
   "pygments_lexer": "ipython3",
   "version": "3.9.13"
  }
 },
 "nbformat": 4,
 "nbformat_minor": 5
}
