{
 "cells": [
  {
   "cell_type": "markdown",
   "id": "466c78d2-857c-4eea-80ae-1b28f950719b",
   "metadata": {
    "tags": []
   },
   "source": [
    "# SSH Key Setup\n",
    "\n",
    "When working with a private GitHub repository, you'll often need to identify yourself.  The username+password combination no longer works with GitHub. We have two options, either a Personal Access token (PAT) or to use SSH key.  We have decided to go with SSH keys.  \n",
    "\n",
    "## What are SSH keys\n",
    "\n",
    "An SSH key is an alternate way to authenticate that doesn't require you to enter you username and password every time.\n",
    "\n",
    "SSH keys come in pairs, a public key that gets shared with services like GitHub, and a private key that is stored only on your computer. If the keys match, you're granted access.\n",
    "\n",
    "The cryptography behind SSH keys ensures that no one can reverse engineer your private key from the public one.\n",
    "\n",
    "## Generating an SSH key pair\n",
    "\n",
    "The first step in using SSH authorization with GitHub is to generate your own key pair.\n",
    "\n",
    "You might already have an SSH key pair on your machine. You can check to see if one exists by listing the contents of your .ssh directory.  Run the following cell to see if you already have a SSH key pair."
   ]
  },
  {
   "cell_type": "code",
   "execution_count": null,
   "id": "45bfdddd-d258-4cd9-89e0-918659c99376",
   "metadata": {},
   "outputs": [],
   "source": [
    "!ls ~/.ssh"
   ]
  },
  {
   "cell_type": "markdown",
   "id": "11a9df38-40f6-4f69-a8d4-cebc3f9d6067",
   "metadata": {},
   "source": [
    "If you see id_rsa.pub, you already have a key pair and don't need to create a new one.\n",
    "\n",
    "If you don't see id_rsa.pub, the run the following cell. When the key generation is complete, you should see the following confirmation:\n",
    "\n",
    "    Your identification has been saved in /home/username/.ssh/id_rsa.\n",
    "    Your public key has been saved in /home/username/.ssh/id_rsa.pub.\n",
    "    The key fingerprint is:\n",
    "    SHA256:2bk1VT53As7AtzpPNF6DmmsGAzVWNB1IoMcg88ata6s jupyter-username@jupyterplanet.au\n",
    "    The key's randomart image is:\n",
    "    +---[RSA 2048]----+\n",
    "    |    o . .**oo.  .|\n",
    "    |     = =+ o=o. o |\n",
    "    |      =o+. .ooo.+|\n",
    "    |     ..o o .=.o.+|\n",
    "    |      ..S o*oo . |\n",
    "    |       .o =oo.   |\n",
    "    |      o  o.=     |\n",
    "    |     . .  + .    |\n",
    "    |    E..  o       |\n",
    "    +----[SHA256]-----+\n",
    "    \n",
    "*Note: The `keygen`\n",
    "command is setup to require no user input. Although not as secure it is sufficient for our needs*"
   ]
  },
  {
   "cell_type": "code",
   "execution_count": null,
   "id": "345fe752-2212-45b9-aa8f-8aa6c9239268",
   "metadata": {},
   "outputs": [],
   "source": [
    "!ssh-keygen -t rsa -b 2048 -N '' -f ~/.ssh/id_rsa"
   ]
  },
  {
   "cell_type": "markdown",
   "id": "c02e10c8-7f91-4e21-ab46-ace746ec660b",
   "metadata": {},
   "source": [
    "## Display the public key\n",
    "\n",
    "You key pari has bene generated.  We now need to display the key by running the follwing cell.  It shoud look something like the following:\n",
    "\n",
    "\n",
    "    ssh-rsa \n",
    "    AAAAB3NzaC1yc2EAAAADAQABAAABAQDK6TlYZOeRWWLPWbRNENFK9knOmzGfjc450kA5QOPiuJydNHig6fGegm35IOpcm\n",
    "    YRJ90W1NBrp6972rUgpbqDjsfFx723jz2pY7KOer531AHrTelyUol5BHI9OTEp6DVjcdxqxMfW2Js3XrXsevsIFigLriq\n",
    "    7fR7fJiV2DlH/NpY+ZX5vGl5qpY6952E82eQZSW/IOIs4QkIDgLLamuZ8WEnpNKJ9WA6J6o7p0onEofXqxyHbsImcsKz\n",
    "    LlFk45K41cge/LimoGRkF9o2OcbGIKNFUll9l6mDrD6oht03896WqXLrhWl7MekpnyR6pUitKoz5tZ5n2Kvqvi65jDzg\n",
    "    Hp jupyter-username@jupyterplanet.au\n",
    "\n"
   ]
  },
  {
   "cell_type": "code",
   "execution_count": null,
   "id": "628c4b3b-094e-4485-a623-8db24560a626",
   "metadata": {},
   "outputs": [],
   "source": [
    "!cat ~/.ssh/id_rsa.pub"
   ]
  },
  {
   "cell_type": "markdown",
   "id": "62e17fd9-59ec-4cbe-a72e-fe396438cb64",
   "metadata": {},
   "source": [
    "## Copy the key to GitHub\n",
    "\n",
    "Copy the contents of the output to your clipboard.\n",
    "\n",
    "Login to github.com and bring up your account settings by clicking on your user icon top left\n",
    "\n",
    "Then select `settings` form the drop down menu.\n",
    "\n",
    "Select `SSH and PGP Keys` from the side menu, then click the `New SSH key` button.\n",
    "\n",
    "Name your key whatever you like, and paste the contents of your clipboard into the Key text box.\n",
    "\n",
    "Finally, hit Add key to save. Enter your github password if prompted.\n",
    "\n",
    "## Using the SSH Key\n",
    "\n",
    "Typically we either download a zip, or use HTTPS to clone a repository.  HTTPS method wont work if you reposiroty is private.\n",
    "\n",
    "Vist one of your private repositories, click on the green `Docde` button.\n",
    "\n",
    "Select the `SSH` tab form the boax, then either copy the contents or click on the `copy to clipboard` icons.\n",
    "\n",
    "If you are using the GitHub plugin, then when you click clone repository paste the SSH-string into the text box.\n",
    "\n",
    "If you are use the terminal (or a notebook cell) type `git clone` add a space and then paste the SSH string and hit enter.  You command should look something like:\n",
    "\n",
    "    git clone git@github.com:michael-borck/WK1-Objects-in-Python.git\n",
    "\n",
    "\n",
    "The repository should now appear in the file-pane to the right.  Open the folder to view and edite files.\n",
    "\n",
    "You can also use SSH to clone private repositries."
   ]
  }
 ],
 "metadata": {
  "kernelspec": {
   "display_name": "Python 3 (ipykernel)",
   "language": "python",
   "name": "python3"
  },
  "language_info": {
   "codemirror_mode": {
    "name": "ipython",
    "version": 3
   },
   "file_extension": ".py",
   "mimetype": "text/x-python",
   "name": "python",
   "nbconvert_exporter": "python",
   "pygments_lexer": "ipython3",
   "version": "3.9.7"
  }
 },
 "nbformat": 4,
 "nbformat_minor": 5
}
