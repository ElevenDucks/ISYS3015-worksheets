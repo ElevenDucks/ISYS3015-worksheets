{
 "cells": [
  {
   "cell_type": "markdown",
   "id": "a296899e-483a-49c4-92c5-8ba266f7211f",
   "metadata": {},
   "source": [
    "# The Game (Object Oriented Version)\n",
    "\n",
    "* Simulate simple board game\n",
    "* There are two players\n",
    "* Each player take turns rolling a die and moving that number of spaces\n",
    "* The first person to space 100 wins\n",
    "\n",
    "Adapted for notebooks from: [Object-Oriented Programming in Python Live Training](https://github.com/ariannedee/oop-python)"
   ]
  },
  {
   "cell_type": "code",
   "execution_count": 1,
   "id": "29e2f87a-b889-4944-b887-1261143f2363",
   "metadata": {},
   "outputs": [],
   "source": [
    "import import_ipynb"
   ]
  },
  {
   "cell_type": "code",
   "execution_count": 2,
   "id": "32e11b6d-ef12-403e-bc3c-6f05cf19a813",
   "metadata": {},
   "outputs": [
    {
     "name": "stdout",
     "output_type": "stream",
     "text": [
      "importing Jupyter notebook from game.ipynb\n",
      "importing Jupyter notebook from player.ipynb\n",
      "importing Jupyter notebook from dice.ipynb\n"
     ]
    },
    {
     "ename": "AttributeError",
     "evalue": "'Game' object has no attribute 'players_list_obj'",
     "output_type": "error",
     "traceback": [
      "\u001b[0;31m---------------------------------------------------------------------------\u001b[0m",
      "\u001b[0;31mAttributeError\u001b[0m                            Traceback (most recent call last)",
      "Input \u001b[0;32mIn [2]\u001b[0m, in \u001b[0;36m<cell line: 4>\u001b[0;34m()\u001b[0m\n\u001b[1;32m      7\u001b[0m game_3 \u001b[38;5;241m=\u001b[39m Game(dice\u001b[38;5;241m=\u001b[39mRigged, num_players\u001b[38;5;241m=\u001b[39m\u001b[38;5;241m4\u001b[39m, target_score\u001b[38;5;241m=\u001b[39m\u001b[38;5;241m40\u001b[39m)\n\u001b[1;32m      8\u001b[0m game_4 \u001b[38;5;241m=\u001b[39m Game(dice\u001b[38;5;241m=\u001b[39mD20, num_players\u001b[38;5;241m=\u001b[39m\u001b[38;5;241m6\u001b[39m)\n\u001b[0;32m---> 10\u001b[0m \u001b[43mgame_2\u001b[49m\u001b[38;5;241;43m.\u001b[39;49m\u001b[43mplay_game\u001b[49m\u001b[43m(\u001b[49m\u001b[43m)\u001b[49m\n\u001b[1;32m     11\u001b[0m game_4\u001b[38;5;241m.\u001b[39mplay_game()\n\u001b[1;32m     12\u001b[0m game_3\u001b[38;5;241m.\u001b[39mplay_game()\n",
      "File \u001b[0;32m<string>:35\u001b[0m, in \u001b[0;36mplay_game\u001b[0;34m(self)\u001b[0m\n",
      "File \u001b[0;32m<string>:21\u001b[0m, in \u001b[0;36m_run\u001b[0;34m(self)\u001b[0m\n",
      "\u001b[0;31mAttributeError\u001b[0m: 'Game' object has no attribute 'players_list_obj'"
     ]
    }
   ],
   "source": [
    "from game import Game\n",
    "from dice import D6, RussianRoulette, D20, Rigged\n",
    "\n",
    "if __name__ == '__main__':\n",
    "    game_1 = Game(dice=RussianRoulette, num_players=2, target_score=30, )\n",
    "    game_2 = Game(dice=D6, num_players=3, target_score=20)\n",
    "    game_3 = Game(dice=Rigged, num_players=4, target_score=40)\n",
    "    game_4 = Game(dice=D20, num_players=6)\n",
    "    \n",
    "    game_2.play_game()\n",
    "    game_4.play_game()\n",
    "    game_3.play_game()\n",
    "    game_1.play_game()"
   ]
  },
  {
   "cell_type": "code",
   "execution_count": null,
   "id": "71891fc8-7a3b-4eac-b906-0aa7749c8f92",
   "metadata": {},
   "outputs": [],
   "source": []
  }
 ],
 "metadata": {
  "kernelspec": {
   "display_name": "Python 3 (ipykernel)",
   "language": "python",
   "name": "python3"
  },
  "language_info": {
   "codemirror_mode": {
    "name": "ipython",
    "version": 3
   },
   "file_extension": ".py",
   "mimetype": "text/x-python",
   "name": "python",
   "nbconvert_exporter": "python",
   "pygments_lexer": "ipython3",
   "version": "3.9.7"
  }
 },
 "nbformat": 4,
 "nbformat_minor": 5
}
