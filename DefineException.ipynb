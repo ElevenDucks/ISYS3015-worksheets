{
 "cells": [
  {
   "cell_type": "code",
   "execution_count": 3,
   "id": "9318b346-1529-4a8f-bef7-446b092acf2d",
   "metadata": {},
   "outputs": [
    {
     "ename": "InvalidWithdrawal",
     "evalue": "You don't have $50 in your account",
     "output_type": "error",
     "traceback": [
      "\u001b[0;31m---------------------------------------------------------------------------\u001b[0m",
      "\u001b[0;31mInvalidWithdrawal\u001b[0m                         Traceback (most recent call last)",
      "Input \u001b[0;32mIn [3]\u001b[0m, in \u001b[0;36m<cell line: 4>\u001b[0;34m()\u001b[0m\n\u001b[1;32m      1\u001b[0m \u001b[38;5;28;01mclass\u001b[39;00m \u001b[38;5;21;01mInvalidWithdrawal\u001b[39;00m(\u001b[38;5;167;01mException\u001b[39;00m):\n\u001b[1;32m      2\u001b[0m        \u001b[38;5;28;01mpass\u001b[39;00m\n\u001b[0;32m----> 4\u001b[0m \u001b[38;5;28;01mraise\u001b[39;00m InvalidWithdrawal(\u001b[38;5;124m\"\u001b[39m\u001b[38;5;124mYou don\u001b[39m\u001b[38;5;124m'\u001b[39m\u001b[38;5;124mt have $50 in your account\u001b[39m\u001b[38;5;124m\"\u001b[39m)\n",
      "\u001b[0;31mInvalidWithdrawal\u001b[0m: You don't have $50 in your account"
     ]
    }
   ],
   "source": [
    "class InvalidWithdrawal(Exception):\n",
    "       pass\n",
    "\n",
    "raise InvalidWithdrawal(\"You don't have $50 in your account\")\n"
   ]
  },
  {
   "cell_type": "code",
   "execution_count": null,
   "id": "e4ed592e-4018-4e20-92ec-1c3dc19be1f7",
   "metadata": {},
   "outputs": [],
   "source": []
  }
 ],
 "metadata": {
  "kernelspec": {
   "display_name": "Python 3 (ipykernel)",
   "language": "python",
   "name": "python3"
  },
  "language_info": {
   "codemirror_mode": {
    "name": "ipython",
    "version": 3
   },
   "file_extension": ".py",
   "mimetype": "text/x-python",
   "name": "python",
   "nbconvert_exporter": "python",
   "pygments_lexer": "ipython3",
   "version": "3.9.13"
  }
 },
 "nbformat": 4,
 "nbformat_minor": 5
}
