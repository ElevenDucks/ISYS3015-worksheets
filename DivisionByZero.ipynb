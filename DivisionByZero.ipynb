{
 "cells": [
  {
   "cell_type": "code",
   "execution_count": 5,
   "id": "5b9c9b79-fba8-4609-b2f4-2c5628fe37b8",
   "metadata": {},
   "outputs": [],
   "source": [
    "def getInt():\n",
    "    try:\n",
    "        num = int(input('Please input a number '))\n",
    "        divisor = int(input('Please input a divisor number '))\n",
    "        result = num / divisor\n",
    "    except ValueError:\n",
    "        print('Number entered is not an int type')\n",
    "    except ZeroDivisionError:\n",
    "        print('Divisor cannot be zero')\n",
    "    else:\n",
    "        return result"
   ]
  },
  {
   "cell_type": "code",
   "execution_count": 6,
   "id": "a910bcc3-8fad-46ce-996d-ed5585604950",
   "metadata": {},
   "outputs": [
    {
     "name": "stdin",
     "output_type": "stream",
     "text": [
      "Please input a number  12\n",
      "Please input a divisor number  3\n"
     ]
    },
    {
     "data": {
      "text/plain": [
       "4.0"
      ]
     },
     "execution_count": 6,
     "metadata": {},
     "output_type": "execute_result"
    }
   ],
   "source": [
    "getInt()"
   ]
  },
  {
   "cell_type": "code",
   "execution_count": null,
   "id": "4639b696-5170-4ae9-9165-fc6828e92de6",
   "metadata": {},
   "outputs": [],
   "source": []
  }
 ],
 "metadata": {
  "kernelspec": {
   "display_name": "Python 3 (ipykernel)",
   "language": "python",
   "name": "python3"
  },
  "language_info": {
   "codemirror_mode": {
    "name": "ipython",
    "version": 3
   },
   "file_extension": ".py",
   "mimetype": "text/x-python",
   "name": "python",
   "nbconvert_exporter": "python",
   "pygments_lexer": "ipython3",
   "version": "3.9.13"
  }
 },
 "nbformat": 4,
 "nbformat_minor": 5
}
