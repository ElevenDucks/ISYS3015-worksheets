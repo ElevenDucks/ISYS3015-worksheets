{
 "cells": [
  {
   "cell_type": "markdown",
   "metadata": {},
   "source": [
    "# Testing Jupyter Notebooks"
   ]
  },
  {
   "cell_type": "markdown",
   "metadata": {},
   "source": [
    "This is a code cell with a function that we will test."
   ]
  },
  {
   "cell_type": "code",
   "execution_count": null,
   "metadata": {
    "tags": []
   },
   "outputs": [],
   "source": [
    "def add(a, b):\n",
    "    '''\n",
    "    Add two numbers:\n",
    "    >>> add(2, 2)\n",
    "    4\n",
    "    '''\n",
    "    return a + b"
   ]
  },
  {
   "cell_type": "markdown",
   "metadata": {},
   "source": [
    "## assert\n",
    "\n",
    "The next cell uses the assert() function. The assert keyword lets you test if a condition in your code returns True, if not, the program will raise an AssertionError. The condition to be tested comes from the test table.\n"
   ]
  },
  {
   "cell_type": "code",
   "execution_count": null,
   "metadata": {},
   "outputs": [],
   "source": [
    "assert add(2,2) == 4, \"Should be 4\""
   ]
  },
  {
   "cell_type": "markdown",
   "metadata": {},
   "source": [
    "### doctest\n",
    "\n",
    "The next cell uses the [doctest module](https://docs.python.org/3.6/library/doctest.html) and runs the test case in the docstring of the `add()` function (and all other test cases in other docstrings if present). This cell will normally be the last one in a notebook."
   ]
  },
  {
   "cell_type": "code",
   "execution_count": null,
   "metadata": {},
   "outputs": [],
   "source": [
    "import doctest\n",
    "doctest.testmod(verbose=True)"
   ]
  },
  {
   "cell_type": "markdown",
   "metadata": {},
   "source": [
    "### unittest\n",
    "\n",
    "The next cell uses the [unittest module](https://docs.python.org/3.6/library/unittest.html) to test the `add()` function. In the class `TestNotebook` we define one test case (`test_add`) for the `add()` function. The last line in the cell runs all test cases when the cell is executed. This cell will normally be the last one in a notebook."
   ]
  },
  {
   "cell_type": "code",
   "execution_count": null,
   "metadata": {
    "scrolled": true
   },
   "outputs": [],
   "source": [
    "import unittest\n",
    "\n",
    "class TestNotebook(unittest.TestCase):\n",
    "\n",
    "    def test_add(self):\n",
    "        self.assertEqual(add(2, 2), 4)\n",
    "\n",
    "\n",
    "unittest.main(argv=[''], verbosity=2, exit=False)"
   ]
  },
  {
   "cell_type": "code",
   "execution_count": null,
   "metadata": {},
   "outputs": [],
   "source": [
    "from collections import defaultdict\n",
    "\n",
    "\n",
    "class StatsList(list):\n",
    "    def mean(self):\n",
    "        return(sum(self) / len(self))\n",
    "\n",
    "    def median(self):\n",
    "        if len(self) % 2:\n",
    "            return self[int(len(self) / 2)]\n",
    "        else:\n",
    "            idx = int(len(self) / 2)\n",
    "            return (self[idx] + self[idx-1]) / 2\n",
    "\n",
    "    def mode(self):\n",
    "        freqs = defaultdict(int)\n",
    "        for item in self:\n",
    "            freqs[item] += 1\n",
    "        mode_freq = max(freqs.values())\n",
    "        modes = []\n",
    "        for item, value, in freqs.items():\n",
    "            if value == mode_freq:\n",
    "                modes.append(item)\n",
    "        return modes"
   ]
  },
  {
   "cell_type": "code",
   "execution_count": null,
   "metadata": {},
   "outputs": [],
   "source": [
    "class TestValidInputs(unittest.TestCase):\n",
    "    def setUp(self):\n",
    "        self.stats = StatsList([1,2,2,3,3,4])\n",
    "\n",
    "    def test_mean(self):\n",
    "        self.assertEqual(self.stats.mean(), 2.5)\n",
    "\n",
    "    def test_median(self):\n",
    "        self.assertEqual(self.stats.median(), 2.5)\n",
    "        self.stats.append(4)\n",
    "        self.assertEqual(self.stats.median(), 3)    \n",
    "\n",
    "    def test_mode(self):\n",
    "        self.assertEqual(self.stats.mode(), [2,3])\n",
    "        self.stats.remove(2)\n",
    "        self.assertEqual(self.stats.mode(), [3])\n",
    "\n",
    "unittest.main(argv=[''], verbosity=2, exit=False)"
   ]
  },
  {
   "cell_type": "code",
   "execution_count": null,
   "metadata": {},
   "outputs": [],
   "source": []
  }
 ],
 "metadata": {
  "kernelspec": {
   "display_name": "Python 3 (ipykernel)",
   "language": "python",
   "name": "python3"
  },
  "language_info": {
   "codemirror_mode": {
    "name": "ipython",
    "version": 3
   },
   "file_extension": ".py",
   "mimetype": "text/x-python",
   "name": "python",
   "nbconvert_exporter": "python",
   "pygments_lexer": "ipython3",
   "version": "3.9.13"
  }
 },
 "nbformat": 4,
 "nbformat_minor": 4
}
