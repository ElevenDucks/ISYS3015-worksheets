{
 "cells": [
  {
   "cell_type": "code",
   "execution_count": 1,
   "id": "aa0e397c-ad5b-46ef-a57c-65b7bd7e7cf9",
   "metadata": {},
   "outputs": [],
   "source": [
    "class CapitalIterable:\n",
    "    def __init__(self, string):\n",
    "        self.string = string\n",
    "\n",
    "    def __iter__(self):\n",
    "        return CapitalIterator(self.string)\n",
    "\n",
    "\n",
    "class CapitalIterator:\n",
    "    def __init__(self, string):\n",
    "        self.words = [w.capitalize() for w in string.split()]\n",
    "        self.index = 0\n",
    "\n",
    "    def __next__(self):\n",
    "        if self.index == len(self.words):\n",
    "            raise StopIteration()\n",
    "        word = self.words[self.index]\n",
    "        self.index += 1\n",
    "        return word\n",
    "\n",
    "    def __iter__(self):\n",
    "        return self"
   ]
  },
  {
   "cell_type": "code",
   "execution_count": 3,
   "id": "dd4fedff-9120-4319-a142-2e4b1f1b6fb9",
   "metadata": {},
   "outputs": [
    {
     "name": "stdout",
     "output_type": "stream",
     "text": [
      "The\n",
      "Quick\n",
      "Brown\n",
      "Fox\n",
      "Jumps\n"
     ]
    }
   ],
   "source": [
    "iterable = CapitalIterable('the quick brown fox jumps ')\n",
    "iterator = iter(iterable)\n",
    "\n",
    "while True:\n",
    "    try:\n",
    "        print(next(iterator))\n",
    "    except StopIteration:\n",
    "        break\n"
   ]
  },
  {
   "cell_type": "code",
   "execution_count": 4,
   "id": "39ea0af7-ad3c-4fd7-bdb0-327d2b5290fd",
   "metadata": {},
   "outputs": [
    {
     "name": "stdout",
     "output_type": "stream",
     "text": [
      "The\n",
      "Quick\n",
      "Brown\n",
      "Fox\n",
      "Jumps\n"
     ]
    }
   ],
   "source": [
    "for i in iterable:\n",
    "    print(i)"
   ]
  },
  {
   "cell_type": "code",
   "execution_count": 5,
   "id": "bf9f475b-db87-428c-aad6-a9a39a280bce",
   "metadata": {},
   "outputs": [
    {
     "name": "stdout",
     "output_type": "stream",
     "text": [
      "['1', '5', '28', '131', '3']\n",
      "[1, 5, 28, 131, 3]\n"
     ]
    }
   ],
   "source": [
    "input_strings = ['1', '5', '28', '131', '3']\n",
    "\n",
    "output_integers = []\n",
    "for num_string in input_strings:\n",
    "    output_integers.append(int(num_string))\n",
    "\n",
    "print(input_strings)\n",
    "print(output_integers)"
   ]
  },
  {
   "cell_type": "code",
   "execution_count": 6,
   "id": "62cb1e2a-7319-49eb-8605-db7513568589",
   "metadata": {},
   "outputs": [
    {
     "name": "stdout",
     "output_type": "stream",
     "text": [
      "['1', '5', '28', '131', '3']\n",
      "[1, 5, 28, 131, 3]\n"
     ]
    }
   ],
   "source": [
    "input_strings = ['1', '5', '28', '131', '3']\n",
    "output_integers = [int(num) for num in input_strings]\n",
    "\n",
    "print(input_strings)\n",
    "print(output_integers)"
   ]
  },
  {
   "cell_type": "code",
   "execution_count": 9,
   "id": "196f67aa-9573-46fd-930e-1c0acdf3cbb4",
   "metadata": {},
   "outputs": [
    {
     "name": "stdout",
     "output_type": "stream",
     "text": [
      "[Book(author='Pratchett', title='Nightwatch', genre='fantasy'), Book(author='Pratchett', title='Thief Of Time', genre='fantasy'), Book(author='Le Guin', title='The Dispossessed', genre='scifi'), Book(author='Le Guin', title='A Wizard Of Earthsea', genre='fantasy'), Book(author='Turner', title='The Thief', genre='fantasy'), Book(author='Phillips', title='Preston Diamond', genre='western'), Book(author='Phillips', title='Twice Upon A Time', genre='scifi')] \n",
      "\n",
      "{'Pratchett', 'Turner', 'Le Guin'}\n"
     ]
    }
   ],
   "source": [
    "from collections import namedtuple\n",
    "\n",
    "Book = namedtuple(\"Book\", \"author title genre\")\n",
    "books = [\n",
    "           Book(\"Pratchett\", \"Nightwatch\", \"fantasy\"),\n",
    "           Book(\"Pratchett\", \"Thief Of Time\", \"fantasy\"),\n",
    "           Book(\"Le Guin\", \"The Dispossessed\", \"scifi\"),\n",
    "           Book(\"Le Guin\", \"A Wizard Of Earthsea\", \"fantasy\"),\n",
    "           Book(\"Turner\", \"The Thief\", \"fantasy\"),\n",
    "           Book(\"Phillips\", \"Preston Diamond\", \"western\"),\n",
    "           Book(\"Phillips\", \"Twice Upon A Time\", \"scifi\"),\n",
    "]\n",
    "fantasy_authors = {b.author for b in books if b.genre == 'fantasy'}\n",
    "print(books, '\\n')\n",
    "print(fantasy_authors)"
   ]
  },
  {
   "cell_type": "code",
   "execution_count": 10,
   "id": "74cb318d-c057-4c5f-8795-d099dc06b83d",
   "metadata": {},
   "outputs": [
    {
     "name": "stdout",
     "output_type": "stream",
     "text": [
      "{'Nightwatch': Book(author='Pratchett', title='Nightwatch', genre='fantasy'), 'Thief Of Time': Book(author='Pratchett', title='Thief Of Time', genre='fantasy'), 'A Wizard Of Earthsea': Book(author='Le Guin', title='A Wizard Of Earthsea', genre='fantasy'), 'The Thief': Book(author='Turner', title='The Thief', genre='fantasy')}\n"
     ]
    }
   ],
   "source": [
    "from collections import namedtuple\n",
    "\n",
    "Book = namedtuple(\"Book\", \"author title genre\")\n",
    "books = [\n",
    "           Book(\"Pratchett\", \"Nightwatch\", \"fantasy\"),\n",
    "           Book(\"Pratchett\", \"Thief Of Time\", \"fantasy\"),\n",
    "           Book(\"Le Guin\", \"The Dispossessed\", \"scifi\"),\n",
    "           Book(\"Le Guin\", \"A Wizard Of Earthsea\", \"fantasy\"),\n",
    "           Book(\"Turner\", \"The Thief\", \"fantasy\"),\n",
    "           Book(\"Phillips\", \"Preston Diamond\", \"western\"),\n",
    "           Book(\"Phillips\", \"Twice Upon A Time\", \"scifi\"),\n",
    "]\n",
    "fantasy_titles = {b.title: b for b in books if b.genre == 'fantasy'}\n",
    "\n",
    "print(fantasy_titles)"
   ]
  },
  {
   "cell_type": "code",
   "execution_count": null,
   "id": "701b21b7-a81f-4219-b120-3847355750da",
   "metadata": {},
   "outputs": [],
   "source": []
  }
 ],
 "metadata": {
  "kernelspec": {
   "display_name": "Python 3 (ipykernel)",
   "language": "python",
   "name": "python3"
  },
  "language_info": {
   "codemirror_mode": {
    "name": "ipython",
    "version": 3
   },
   "file_extension": ".py",
   "mimetype": "text/x-python",
   "name": "python",
   "nbconvert_exporter": "python",
   "pygments_lexer": "ipython3",
   "version": "3.9.13"
  }
 },
 "nbformat": 4,
 "nbformat_minor": 5
}
