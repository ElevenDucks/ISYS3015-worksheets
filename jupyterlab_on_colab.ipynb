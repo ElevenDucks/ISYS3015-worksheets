{
 "cells": [
  {
   "cell_type": "markdown",
   "metadata": {
    "colab_type": "text",
    "id": "view-in-github"
   },
   "source": [
    "<a href=\"https://colab.research.google.com/github/michael-borck/isys2001-worksheets/blob/main/jupyterlab_localhost_gdrive.ipynb\" target=\"_parent\"><img src=\"https://colab.research.google.com/assets/colab-badge.svg\" alt=\"Open In Colab\"/></a>"
   ]
  },
  {
   "cell_type": "code",
   "execution_count": null,
   "metadata": {
    "cellView": "form",
    "id": "KfD1o7Ae2rhW"
   },
   "outputs": [],
   "source": [
    "#@title Jupyter Lab on Colab\n",
    "#@markdown Execute this cell to run Jupyter Lab over a localhost.run reverse ssh tunnel. See [localhost.run docs](https://localhost.run/docs/) for more details.\n",
    "#@markdown To **shutdown** notebook select `Runtime` from the menu then select `Restart Runtime` \n",
    "\n",
    "#@markdown WARNING: If you connect you Google Drive, then anyone who knows the tunnel link below will have access to you Google Drive\n",
    "Mount_Google_Drive = False #@param {type:\"boolean\"}\n",
    "if Mount_Google_Drive:\n",
    "  from google.colab import drive\n",
    "  drive.mount('/content/gdrive/')\n",
    "\n",
    "# install Jupyter Lab\n",
    "!pip install jupyterlab >/dev/null 2>&1\n",
    "\n",
    "# setup ssh\n",
    "!ssh-keygen -q -t rsa -N '' <<< $'\\ny' >/dev/null 2>&1\n",
    "!ssh-add >/dev/null 2>&1\n",
    "\n",
    "# load Jupyter Lab server\n",
    "!jupyter lab --ip=0.0.0.0 --port=8989 --allow-root >/dev/null 2>&1 &\n",
    "\n",
    "# setup reverse shell localhost.run exposing Jupyter Lab port\n",
    "!ssh -o StrictHostKeyChecking=no -R 80:localhost:8989 ssh.localhost.run &"
   ]
  }
 ],
 "metadata": {
  "colab": {
   "authorship_tag": "ABX9TyNK4Wl07Y7Yz0gV8U6gC4Ld",
   "include_colab_link": true,
   "name": "jupyterlab-localhost-gdrive.ipynb",
   "provenance": []
  },
  "kernelspec": {
   "display_name": "Python 3 (ipykernel)",
   "language": "python",
   "name": "python3"
  },
  "language_info": {
   "codemirror_mode": {
    "name": "ipython",
    "version": 3
   },
   "file_extension": ".py",
   "mimetype": "text/x-python",
   "name": "python",
   "nbconvert_exporter": "python",
   "pygments_lexer": "ipython3",
   "version": "3.9.7"
  }
 },
 "nbformat": 4,
 "nbformat_minor": 4
}
