{
 "cells": [
  {
   "cell_type": "markdown",
   "id": "7523610b-7cb3-4e25-af79-f73c11194165",
   "metadata": {},
   "source": [
    "# Objects in Python\n",
    "\n",
    "We discussed OO concepts n the lectures and using UML to provide a desing. The next step would be to turn the design into a working program. But first lets have a look at the  Python syntax the allow use to create object oriented software.\n",
    "\n",
    "## Create a new GitHub repository\n",
    "\n",
    "Create a private Gi\n",
    "\n",
    "## Creating Python Classes\n",
    "\n",
    "We don't have to write much Python code.\n",
    "\n",
    "Here is what the simplest class in Python 3 looks like:"
   ]
  },
  {
   "cell_type": "code",
   "execution_count": null,
   "id": "f84afbdb-e5c3-4da1-8404-9ef49abd064d",
   "metadata": {},
   "outputs": [],
   "source": []
  },
  {
   "cell_type": "markdown",
   "id": "2418ea04-c6c4-457c-895e-11ec4e16f046",
   "metadata": {},
   "source": [
    "Technically that is our first object-oriented program!\n",
    "\n",
    "The class definition starts with the `class` keyword. Ths if followed by a name (of youe choice) identifying the class and it is terminated with a colon.\n",
    "\n",
    "> The class name follows standard Python naming rules. Search the web for PEP 8 recommends classes should be named using CamelCase\n",
    "\n",
    "The class definition line is followed by the class contents **indented**.\n",
    "\n",
    "> Use four spaces for indentation unless you have a compelling reason not to (following other code that uses tabs)\n",
    "\n",
    "Since our class does do anything we will use the pass keyword.\n",
    "\n",
    "What can we do, weel it allows us to instantiate the objects."
   ]
  },
  {
   "cell_type": "code",
   "execution_count": null,
   "id": "fecdbdbf-d552-429d-9ce0-306f2e69aa26",
   "metadata": {},
   "outputs": [],
   "source": [
    "a = MyFirstClass()"
   ]
  },
  {
   "cell_type": "code",
   "execution_count": null,
   "id": "2a790b79-3b6e-4999-9fb9-be970b0404e7",
   "metadata": {},
   "outputs": [],
   "source": [
    "b = MyFirstClass()"
   ]
  },
  {
   "cell_type": "code",
   "execution_count": null,
   "id": "c99344a4-bdd1-4c8d-96ee-d3f3fcde787b",
   "metadata": {},
   "outputs": [],
   "source": [
    "print(a)\n",
    "print(b)"
   ]
  },
  {
   "cell_type": "markdown",
   "id": "1e336a4e-d7bc-438d-aaa2-4430e47937d1",
   "metadata": {},
   "source": [
    "The code inisantiates twoo objects form the new class named a and b.  It look like a function call, but Python know we creating a class.  When printed the two objects tell us which class and what memory address.  We don't really use memory address in Python, but here they demonstrate they are two distinct objects.\n",
    "\n",
    "## Adding Attributes\n",
    "\n",
    "Lets doing something a little more useful.  Pthon is very flexible we can set arbitrary attributes on instantiated objects using dot notation.\n"
   ]
  },
  {
   "cell_type": "code",
   "execution_count": null,
   "id": "4757876c-3ff0-49e5-b4fe-a41e3ed50a06",
   "metadata": {},
   "outputs": [],
   "source": [
    "class Point:\n",
    "    pass\n",
    "\n",
    "p1 = Point()\n",
    "p2 = Point()\n",
    "\n",
    "p1.x =4\n",
    "p1.y =4\n",
    "\n",
    "p2.x =3\n",
    "p2.y =6\n",
    "\n",
    "print(p1.x, p1.y)\n",
    "print(p2.x, p2.y)\n"
   ]
  },
  {
   "cell_type": "markdown",
   "id": "495d1894-7d66-4782-8a77-4ab5705a63cc",
   "metadata": {},
   "source": [
    "This code creates an empty `Point` class with no data or behaviours.  We then create two instances of the class and assign those instances `x` and `y` coordinates (data).  The we print each point.\n",
    "\n",
    "## Making it Do Something\n",
    "\n",
    "OO is abut the interation between objects.\n",
    "\n",
    "Lets model a couple of actions on our `Point` class.  We will start with a  methos called `reset` that moves the poit to the origin.  This ia good first action becase it does note require any parameters."
   ]
  },
  {
   "cell_type": "code",
   "execution_count": null,
   "id": "8e966b32-3688-4f41-a3ec-680a7836a0b0",
   "metadata": {},
   "outputs": [],
   "source": [
    "# Add class here\n",
    "\n",
    "\n",
    "p = Point()\n",
    "p.reset()\n",
    "print(p.x, p.y)"
   ]
  },
  {
   "cell_type": "markdown",
   "id": "c1cff480-f31b-455e-a63e-80647feddccb",
   "metadata": {},
   "source": [
    "The one diffeence between methods and normal functions is that all methods have one required argument.  This argument is conventionally cslled `self`.  The `self` argument is simply a refence to the object the method is being invoked on.\n",
    "\n",
    "But notice when we call the `p.reset()` method we do not have to pass the self argument into it.  Python sorts this out for us.\n",
    "\n",
    "What happens if we forget to include the `self` argument?"
   ]
  },
  {
   "cell_type": "code",
   "execution_count": null,
   "id": "1a4af3f4-4593-4f6f-b147-3f36d4f2b53e",
   "metadata": {},
   "outputs": [],
   "source": [
    "# Define a Point class and don't add 'self' to the reset method."
   ]
  },
  {
   "cell_type": "markdown",
   "id": "8c895388-de7a-4499-9adb-6c0091c67ad3",
   "metadata": {},
   "source": [
    "## More Arguments\n",
    "\n",
    "So how do we pass multiple arguments to a method?  Lets add a method that allows us to move a point to an arbitrary position, not just the origin.\n",
    "\n",
    "We also add a methon that accepts another `Point` object and returns the distance between them."
   ]
  },
  {
   "cell_type": "code",
   "execution_count": null,
   "id": "a967732f-c92f-4799-8f44-6583c7c6e096",
   "metadata": {},
   "outputs": [],
   "source": [
    "import math\n",
    "\n",
    "class Point:\n",
    "    def move(self, x, y):\n",
    "        # Write Code here\n",
    "    \n",
    "    def reset(self):\n",
    "        # Can we use move?\n",
    "        \n",
    "    def calculate_distance(self, other_point):\n",
    "        # write code here (Pythagoren theorem)\n",
    "\n",
    "# Use the code\n",
    "point1 = Point()\n",
    "point2 = Point()\n",
    "\n",
    "point1.reset()\n",
    "point2.move(5,0)\n",
    "\n",
    "\n",
    "distance1 = point1.calculate_distance(point2)\n",
    "print(distance1)\n",
    "\n",
    "distance2 = point2.calculate_distance(point1)\n",
    "\n",
    "# Simple Test\n",
    "assert( distance1 == distance2)\n"
   ]
  },
  {
   "cell_type": "markdown",
   "id": "5c7c4489-a324-4a7b-ac79-8ddc56d54c48",
   "metadata": {},
   "source": [
    "## Initialising the Object\n",
    "\n",
    "If we don;t explicity set x and y what will happen when we try to access it.  Well lets try and see!  \"Try it a see\" is a very usefuly too whe learning Python."
   ]
  },
  {
   "cell_type": "code",
   "execution_count": null,
   "id": "6edd8dd0-7c0b-4323-9625-c10bbe4e3ccb",
   "metadata": {},
   "outputs": [],
   "source": []
  },
  {
   "cell_type": "code",
   "execution_count": null,
   "id": "72f745ce-9cee-4e67-9a22-807c846424ce",
   "metadata": {},
   "outputs": [],
   "source": [
    "point = Point()\n",
    "point.x = 5\n",
    "print(point.x)\n",
    "print(point.y)"
   ]
  },
  {
   "cell_type": "markdown",
   "id": "1a5e1be4-5ed1-447b-a788-4ef0ebd24b07",
   "metadata": {},
   "source": [
    "It three an exeption.  Recall the error message will tell the line number (partialy true in the REPL system) and the erroe is `AttributeError` and a (usually) helpful message.\n",
    "\n",
    "So it usually a good idea to initialise the object.  MOst OO language have the concept of a **constructor**.  This is a special methods the creates and initialises the object.  Python is a little different, it has a constructor *and* and initialiser.  We rarely use the constructor, so we will looks at the initialiser.\n",
    "\n",
    "> Never name a function with leading and trailing double underscores.  It may mena nothing to Python but the designers amy add a function in the future that has a special purpose.  That is the double underscore are `reserved`"
   ]
  },
  {
   "cell_type": "code",
   "execution_count": null,
   "id": "5d68894b-e76b-4db8-99f6-a6d667514203",
   "metadata": {},
   "outputs": [],
   "source": [
    "class Point:\n",
    "    def __init__(self, x,y):\n",
    "        # write code here\n",
    "        \n",
    "    def move(self, x, y):\n",
    "        self.x = x\n",
    "        self.y = y\n",
    "    \n",
    "    def reset(self):\n",
    "        self.move(0,0)\n",
    "        \n",
    "\n",
    "# Construction a Point\n",
    "point - Point(\n",
    "print(point.x, point.y)\n",
    "    "
   ]
  },
  {
   "cell_type": "markdown",
   "id": "1f5ccc66-3cde-49ba-b082-a18e5d3e3a17",
   "metadata": {},
   "source": [
    "## Explaining yourself\n",
    "\n",
    "Python is an extremley easy to read program.  However when doing OO programming it is iportant to write API documentation the clearly sumarises what each object and method does.\n",
    "\n",
    "Pytohn does this through **docstrings**. Lets add some **Docstring** to our class"
   ]
  },
  {
   "cell_type": "code",
   "execution_count": null,
   "id": "6ff8d710-8161-40f5-9450-2af785777b2b",
   "metadata": {},
   "outputs": [],
   "source": [
    "import math\n",
    "\n",
    "class point:\n",
    "    \n",
    "    def __init(self, x=0, y=0):\n",
    "        \n",
    "    \n",
    "    def move(self, x,y):\n",
    "        \n",
    "        \n",
    "    def reset(self):\n",
    "        \n",
    "    \n",
    "    def calcualte_Distance(self, other_point):\n",
    "        \n",
    "    "
   ]
  },
  {
   "cell_type": "markdown",
   "id": "d43015f6-e59f-4ced-8361-491ee94ef1b1",
   "metadata": {},
   "source": [
    "## That is it!\n",
    "\n",
    "Save the notebook, and push to you repository."
   ]
  }
 ],
 "metadata": {
  "kernelspec": {
   "display_name": "Python 3 (ipykernel)",
   "language": "python",
   "name": "python3"
  },
  "language_info": {
   "codemirror_mode": {
    "name": "ipython",
    "version": 3
   },
   "file_extension": ".py",
   "mimetype": "text/x-python",
   "name": "python",
   "nbconvert_exporter": "python",
   "pygments_lexer": "ipython3",
   "version": "3.9.7"
  }
 },
 "nbformat": 4,
 "nbformat_minor": 5
}
