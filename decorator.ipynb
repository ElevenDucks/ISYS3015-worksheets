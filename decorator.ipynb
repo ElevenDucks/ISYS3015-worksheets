{
 "cells": [
  {
   "cell_type": "code",
   "execution_count": 1,
   "id": "1f7f5ad0-a22c-4019-a38a-864961649092",
   "metadata": {},
   "outputs": [
    {
     "name": "stdout",
     "output_type": "stream",
     "text": [
      "Extra Functionality\n",
      "Initial Functionality\n"
     ]
    }
   ],
   "source": [
    "def decorator(f):\n",
    "    def new_function():\n",
    "        print(\"Extra Functionality\")\n",
    "        f()\n",
    "    return new_function\n",
    "\n",
    "@decorator\n",
    "def initial_function():\n",
    "    print(\"Initial Functionality\")\n",
    "\n",
    "initial_function()"
   ]
  },
  {
   "cell_type": "code",
   "execution_count": null,
   "id": "6df8d5a8-864c-4c50-a46c-93b6fd050c5f",
   "metadata": {},
   "outputs": [],
   "source": []
  }
 ],
 "metadata": {
  "kernelspec": {
   "display_name": "Python 3 (ipykernel)",
   "language": "python",
   "name": "python3"
  },
  "language_info": {
   "codemirror_mode": {
    "name": "ipython",
    "version": 3
   },
   "file_extension": ".py",
   "mimetype": "text/x-python",
   "name": "python",
   "nbconvert_exporter": "python",
   "pygments_lexer": "ipython3",
   "version": "3.9.13"
  }
 },
 "nbformat": 4,
 "nbformat_minor": 5
}
