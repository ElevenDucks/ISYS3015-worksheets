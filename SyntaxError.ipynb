{
 "cells": [
  {
   "cell_type": "code",
   "execution_count": 2,
   "id": "9791fae7-2c23-4066-b02b-c680a7c2e4cc",
   "metadata": {},
   "outputs": [
    {
     "name": "stdout",
     "output_type": "stream",
     "text": [
      "John\n",
      "This will print once for each name\n",
      "Sue\n",
      "This will print once for each name\n",
      "Paul\n",
      "This will print once for each name\n",
      "This will only happend once\n"
     ]
    }
   ],
   "source": [
    "names = ['John', 'Sue', 'Paul']\n",
    "for name in names:\n",
    "    print(name)\n",
    "    print(\"This will print once for each name\")\n",
    "print(\"This will only happend once\")"
   ]
  },
  {
   "cell_type": "code",
   "execution_count": null,
   "id": "3e98bc03-bb7c-4f8f-aebc-f448d0635716",
   "metadata": {},
   "outputs": [],
   "source": []
  }
 ],
 "metadata": {
  "kernelspec": {
   "display_name": "Python 3 (ipykernel)",
   "language": "python",
   "name": "python3"
  },
  "language_info": {
   "codemirror_mode": {
    "name": "ipython",
    "version": 3
   },
   "file_extension": ".py",
   "mimetype": "text/x-python",
   "name": "python",
   "nbconvert_exporter": "python",
   "pygments_lexer": "ipython3",
   "version": "3.9.13"
  }
 },
 "nbformat": 4,
 "nbformat_minor": 5
}
